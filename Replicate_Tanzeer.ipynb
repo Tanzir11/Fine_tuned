{
  "cells": [
    {
      "cell_type": "markdown",
      "metadata": {
        "id": "view-in-github",
        "colab_type": "text"
      },
      "source": [
        "<a href=\"https://colab.research.google.com/github/Tanzir11/Fine_tuned/blob/main/Replicate_Tanzeer.ipynb\" target=\"_parent\"><img src=\"https://colab.research.google.com/assets/colab-badge.svg\" alt=\"Open In Colab\"/></a>"
      ]
    },
    {
      "cell_type": "code",
      "execution_count": 16,
      "metadata": {
        "id": "E-bsjclqAqeP",
        "colab": {
          "base_uri": "https://localhost:8080/"
        },
        "outputId": "d4006c84-2c57-44f5-deba-5cdab9601d69"
      },
      "outputs": [
        {
          "output_type": "stream",
          "name": "stdout",
          "text": [
            "time: 9.55 s (started: 2023-09-07 16:39:33 +00:00)\n"
          ]
        }
      ],
      "source": [
        "%%capture\n",
        "!pip install ipython-autotime langchain openai tiktoken faiss-cpu  unstructured transformers pdf2image pdfminer.six replicate --quiet"
      ]
    },
    {
      "cell_type": "code",
      "execution_count": 17,
      "metadata": {
        "id": "ypC33Jh99YD5",
        "colab": {
          "base_uri": "https://localhost:8080/"
        },
        "outputId": "e9892a7d-5f82-4243-a15d-69f0ee7629f5"
      },
      "outputs": [
        {
          "output_type": "stream",
          "name": "stdout",
          "text": [
            "The autotime extension is already loaded. To reload it, use:\n",
            "  %reload_ext autotime\n",
            "time: 7.4 ms (started: 2023-09-07 16:39:43 +00:00)\n"
          ]
        }
      ],
      "source": [
        "import time\n",
        "from langchain.embeddings.openai import OpenAIEmbeddings\n",
        "from langchain.vectorstores.faiss import FAISS\n",
        "import openai\n",
        "from langchain.chat_models import ChatOpenAI\n",
        "from langchain.chains import ConversationalRetrievalChain\n",
        "from langchain.prompts.prompt import PromptTemplate\n",
        "from langchain.document_loaders import UnstructuredPDFLoader # for loading the pdf\n",
        "import os\n",
        "from pprint import pprint\n",
        "from langchain.llms import Replicate\n",
        "import replicate\n",
        "\n",
        "%load_ext autotime"
      ]
    },
    {
      "cell_type": "code",
      "execution_count": 18,
      "metadata": {
        "id": "a-gqJyJZYhOD",
        "colab": {
          "base_uri": "https://localhost:8080/"
        },
        "outputId": "ebf3bc69-44c0-4a43-8a66-a5c7932c62aa"
      },
      "outputs": [
        {
          "output_type": "stream",
          "name": "stdout",
          "text": [
            "time: 240 ms (started: 2023-09-07 16:39:43 +00:00)\n"
          ]
        }
      ],
      "source": [
        "pdf_path = \"/content/Sample_Input_LOI.pdf\"\n",
        "loader = UnstructuredPDFLoader(pdf_path)\n",
        "input = loader.load_and_split()"
      ]
    },
    {
      "cell_type": "code",
      "execution_count": 19,
      "metadata": {
        "id": "kLrSne8MYhOD",
        "colab": {
          "base_uri": "https://localhost:8080/",
          "height": 105
        },
        "outputId": "0e7a9c1b-ff35-465e-cce7-00130e3d5b6c"
      },
      "outputs": [
        {
          "output_type": "execute_result",
          "data": {
            "text/plain": [
              "'Parties Involved: Acquiring Company: - Name: Global Solutions Inc. - Address: 123 Park Avenue, New York, NY 10001 - Contact Person: Mark Johnson - Email: mark.johnson@globalsolutions.com\\n\\nTarget Company: - Name: Tech Innovators Ltd. - Address: 456 Innovation Road, San Francisco, CA 94107 - Contact Person: Sarah Thompson - Email: sarah.thompson@techinnovators.com\\n\\nTransaction Details: - Type of Transaction: Acquisition - Proposed Structure: Cash and Stock Purchase - Purchase Price: $250 million - Payment Method: Global Solutions Inc. will pay $150 million in cash and issue $100 million worth of common shares to the shareholders of Tech Innovators Ltd. - Contingency: Approval of the transaction by the respective boards of directors and regulatory authorities.\\n\\nBackground Information: - Global Solutions Inc. is a multinational technology services company specializing in software development, cloud computing, and cybersecurity solutions. - Tech Innovators Ltd. is a successful startup specializing in artificial intelligence and machine learning algorithms with a strong presence in the healthcare sector.\\n\\nConfidentiality and Exclusivity: - Both parties agree to maintain strict confidentiality and safeguard all proprietary and sensitive information exchanged during the negotiation process. - The LOI includes a mutual exclusivity clause, ensuring that neither party engages in similar discussions with other potential partners during the negotiation period.\\n\\nDue Diligence: - Both parties will conduct thorough due diligence investigations to assess the financial, legal, and operational aspects of the target company. - Tech Innovators Ltd. will provide access to audited financial statements, customer contracts, intellectual property records, and relevant regulatory compliance documentation.\\n\\nConditions Precedent: - The transaction is subject to obtaining regulatory approvals from the Federal Trade Commission (FTC) and any other relevant authorities. - Satisfactory completion of due diligence by both parties, including review and resolution of any identified issues or concerns. - Approval from the boards of directors and shareholders of both Global Solutions Inc. and Tech Innovators Ltd.\\n\\nTimeline and Milestones: - Negotiation and execution of definitive agreements: Expected to be completed within 60 days from the signing of the LOI. - Regulatory approvals: Anticipated to be obtained within 90 days from the signing of the LOI.\\n\\nClosing the transaction: Targeted to occur within 120 days from the signing of the LOI, subject to the fulfillment of all conditions precedent.\\n\\nGoverning Law and Dispute Resolution: - The LOI and any subsequent agreements will be governed by and interpreted in accordance with the laws of the State of Delaware, USA. - Any disputes arising out of or in connection with the LOI will be resolved through binding arbitration in accordance with the rules of the American Arbitration Association.\\n\\nTermination: - Either party may terminate the LOI if there is a material breach by the other party, failure to meet the agreed-upon conditions, or if the transaction is unable to secure necessary regulatory approvals within a specified timeframe.\\n\\nThis realistic dummy data provides a more accurate representation of the information typically involved in a merger or acquisition transaction. You can input this data into the AI system and evaluate its performance in generating a draft LOI based on this information.'"
            ],
            "application/vnd.google.colaboratory.intrinsic+json": {
              "type": "string"
            }
          },
          "metadata": {},
          "execution_count": 19
        },
        {
          "output_type": "stream",
          "name": "stdout",
          "text": [
            "time: 8.71 ms (started: 2023-09-07 16:39:43 +00:00)\n"
          ]
        }
      ],
      "source": [
        "input[0].page_content"
      ]
    },
    {
      "cell_type": "code",
      "execution_count": 20,
      "metadata": {
        "id": "d3wpjvmOYhOE",
        "colab": {
          "base_uri": "https://localhost:8080/"
        },
        "outputId": "289c805e-7e0d-4f6f-c77e-54f17e2cd93a"
      },
      "outputs": [
        {
          "output_type": "stream",
          "name": "stdout",
          "text": [
            "time: 509 µs (started: 2023-09-07 16:39:43 +00:00)\n"
          ]
        }
      ],
      "source": [
        "api = 'Open Ai api key'"
      ]
    },
    {
      "cell_type": "code",
      "execution_count": 21,
      "metadata": {
        "id": "t5D2LOxCYhOE",
        "colab": {
          "base_uri": "https://localhost:8080/"
        },
        "outputId": "24f05df3-6f2d-4ad5-a508-052fd52ffde1"
      },
      "outputs": [
        {
          "output_type": "stream",
          "name": "stdout",
          "text": [
            "time: 1 s (started: 2023-09-07 16:39:43 +00:00)\n"
          ]
        }
      ],
      "source": [
        "embeddings = OpenAIEmbeddings(openai_api_key=api)\n",
        "index = FAISS.from_documents(input, embeddings)"
      ]
    },
    {
      "cell_type": "code",
      "execution_count": 22,
      "metadata": {
        "id": "3aRks6jKYhOE",
        "colab": {
          "base_uri": "https://localhost:8080/"
        },
        "outputId": "0811bd96-8087-46ee-af5e-44d25ffb68c8"
      },
      "outputs": [
        {
          "output_type": "stream",
          "name": "stdout",
          "text": [
            "time: 978 µs (started: 2023-09-07 16:39:44 +00:00)\n"
          ]
        }
      ],
      "source": [
        "Patent_template = '''\n",
        "\n",
        "Aim: As an experienced corporate attorney with over 15 years of expertise, you are to draft a Letter of Intent (LOI) based on the provided context and information below. This task involves several steps:\n",
        "\n",
        "1. Below is a general list of the sections that you need to draft in Letter of Intent (LOI):\n",
        "\n",
        "  - 1. **Parties Involved:** This section identifies the buyer and seller involved in the transaction, including full names and addresses.\n",
        "\n",
        "  - 2. **Transaction Overview:** A brief description of the transaction at hand, including the type of transaction (e.g., asset purchase, stock purchase, merger).\n",
        "\n",
        "  - 3. **Purchase Price and Structure:** This section outlines the proposed purchase price and the structure of the deal. This might include information about how the payment will be made, such as cash, stock, seller financing, or a combination.\n",
        "\n",
        "  - 4. **Assets and Liabilities:** If it's an asset purchase, the specific assets being bought and liabilities being assumed should be listed here.\n",
        "\n",
        "  - 5. **Due Diligence and Confidentiality:** An acknowledgement that the buyer will be conducting due diligence and a confidentiality agreement to protect the seller's proprietary information.\n",
        "\n",
        "  - 6. **Exclusivity Period:** This clause prohibits the seller from soliciting or entertaining offers from other potential buyers for a specified period.\n",
        "\n",
        "  - 7. **Conditions Precedent:** These are conditions that must be met before a final agreement can be signed. They might include obtaining financing, approval from regulatory bodies, or the completion of due diligence.\n",
        "\n",
        "  - 8. **Non-binding Nature:** The LOI should make it clear that, apart from specific sections (like confidentiality, exclusivity, etc.), it's not legally binding until a formal, final agreement is signed.\n",
        "\n",
        "  - 9. **Future Actions:** This outlines the next steps that each party must take to move the transaction forward, such as due diligence process, final agreement drafting etc.\n",
        "\n",
        "  - 10. **Timeline:** A proposed schedule or timeline for due diligence, negotiations, and completion of the transaction.\n",
        "\n",
        "  - 11. **Governing Law:** This section indicates the state or country's laws that will govern the LOI and subsequent agreements.\n",
        "\n",
        "  - 12. **Termination Clause:** This explains the circumstances under which the LOI can be terminated by either party.\n",
        "\n",
        "  - 13. **Signatures:** Both parties should sign and date the LOI.\n",
        "\n",
        "\n",
        "2. For each section mentioned, generate a detailed, insightful, and professional analysis based on the provided context and information.\n",
        "\n",
        "3. for each section, review the draft and refine the content. Generate a revised version that incorporates any improvements identified during the review process.\n",
        "\n",
        "Remember, the document should be professionally written, well-structured, and contain all necessary legal details. The context and requirements for this task are as follows:\n",
        "\n",
        "—-----------------------------------------------------------------\n",
        "context : {context}\n",
        "\n",
        "Task: {question}\n",
        "—-----------------------------------------------------------------\n",
        "'''\n"
      ]
    },
    {
      "cell_type": "code",
      "execution_count": 23,
      "metadata": {
        "id": "Pg5__62iYhOE",
        "colab": {
          "base_uri": "https://localhost:8080/"
        },
        "outputId": "806dac9b-51cf-4c17-b2fc-8674aee3f662"
      },
      "outputs": [
        {
          "output_type": "stream",
          "name": "stdout",
          "text": [
            "time: 6.35 ms (started: 2023-09-07 16:39:44 +00:00)\n"
          ]
        }
      ],
      "source": [
        "PATENT_PROMPT = PromptTemplate(template=Patent_template, input_variables=[\"context\",\"question\" ])"
      ]
    },
    {
      "cell_type": "code",
      "execution_count": 24,
      "metadata": {
        "id": "I7JVjb3GYhOE",
        "colab": {
          "base_uri": "https://localhost:8080/"
        },
        "outputId": "4c9160b9-25c5-4449-c015-16ac5d347fa1"
      },
      "outputs": [
        {
          "output_type": "stream",
          "name": "stdout",
          "text": [
            "time: 1.05 ms (started: 2023-09-07 16:39:44 +00:00)\n"
          ]
        }
      ],
      "source": [
        "retriver = index.as_retriever(search_type='similarity',search_kwargs={\"k\":15})"
      ]
    },
    {
      "cell_type": "code",
      "source": [
        "#pip install replicate\n",
        "#use the following API token\n",
        "from getpass import getpass\n",
        "import os\n",
        "\n",
        "REPLICATE_API_TOKEN = getpass()\n",
        "os.environ[\"REPLICATE_API_TOKEN\"] = 'replicate_key'"
      ],
      "metadata": {
        "id": "GsTcCXESN3lm",
        "colab": {
          "base_uri": "https://localhost:8080/"
        },
        "outputId": "de7b193f-7bde-4280-a8d6-9a0d1578e02c"
      },
      "execution_count": 25,
      "outputs": [
        {
          "output_type": "stream",
          "name": "stdout",
          "text": [
            "··········\n",
            "time: 5.28 s (started: 2023-09-07 16:39:46 +00:00)\n"
          ]
        }
      ]
    },
    {
      "cell_type": "code",
      "source": [
        "from langchain.callbacks.streaming_stdout import StreamingStdOutCallbackHandler\n",
        "llm = Replicate(\n",
        "    # streaming=True, # Uncomment the following line to allow streaming output\n",
        "    # callbacks=[StreamingStdOutCallbackHandler()],\n",
        "    model=\"tanzir11/merge:d89b08de97cee03684b6814330916033ccb4a4586f4493148f7b40d553f4785b\",\n",
        "    input={\"temperature\": 0.95, \"max_new_tokens\": 4000, \"top_p\": 0.95, \"repetition_penalty\":1.15}\n",
        ")"
      ],
      "metadata": {
        "id": "o4CMR1lPOB8e",
        "colab": {
          "base_uri": "https://localhost:8080/"
        },
        "outputId": "d20da98d-42ac-480d-f11b-83dfc5fbc5b8"
      },
      "execution_count": 76,
      "outputs": [
        {
          "output_type": "stream",
          "name": "stdout",
          "text": [
            "time: 1.34 ms (started: 2023-09-07 18:22:58 +00:00)\n"
          ]
        }
      ]
    },
    {
      "cell_type": "code",
      "execution_count": 77,
      "metadata": {
        "colab": {
          "base_uri": "https://localhost:8080/"
        },
        "outputId": "4addeb1b-54b1-4cf0-cdd5-f54553a1fa78",
        "id": "ZJrwBhm-YhOF"
      },
      "outputs": [
        {
          "output_type": "stream",
          "name": "stdout",
          "text": [
            "time: 1.56 ms (started: 2023-09-07 18:23:07 +00:00)\n"
          ]
        }
      ],
      "source": [
        "qa = ConversationalRetrievalChain.from_llm(llm,retriver, return_source_documents=True, max_tokens_limit=8192, combine_docs_chain_kwargs={'prompt': PATENT_PROMPT})"
      ]
    },
    {
      "cell_type": "code",
      "source": [
        "# Non-trained 70b model's output\n",
        "query = \"Your response would be taken as it in the input so As a first step of drafting a Letter of Intent (LOI), Your task is to Write '1200' words long content about section-1, i.e... Parties Involved, based on the context and memory available.\"\n",
        "result = qa({\"question\":query,\"chat_history\":[]})\n",
        "pprint(result[\"answer\"])"
      ],
      "metadata": {
        "colab": {
          "base_uri": "https://localhost:8080/"
        },
        "id": "oZ2CGh-QmojY",
        "outputId": "90d67a76-4963-4862-c99b-ce1293b86c06"
      },
      "execution_count": 78,
      "outputs": [
        {
          "output_type": "stream",
          "name": "stdout",
          "text": [
            "('  Parties Involved:\\n'\n",
            " '\\n'\n",
            " 'This Letter of Intent (LOI) outlines the proposed transaction between Global '\n",
            " 'Solutions Inc. (Acquiring Company) and Tech Innovators Ltd. (Target '\n",
            " 'Company). The parties involved in this transaction are:\\n'\n",
            " '\\n'\n",
            " 'Global Solutions Inc.:\\n'\n",
            " '\\n'\n",
            " '* Name: Global Solutions Inc.\\n'\n",
            " '* Address: 123 Park Avenue, New York, NY 10001\\n'\n",
            " '* Contact Person: Mark Johnson\\n'\n",
            " '* Email: mark.johnson@globalsolutions.com\\n'\n",
            " '\\n'\n",
            " 'Tech Innovators Ltd.:\\n'\n",
            " '\\n'\n",
            " '* Name: Tech Innovators Ltd.\\n'\n",
            " '* Address: 456 Innovation Road, San Francisco, CA 94107\\n'\n",
            " '* Contact Person: Sarah Thompson\\n'\n",
            " '* Email: sarah.thompson@techinnovators.com\\n'\n",
            " '\\n'\n",
            " 'The Acquiring Company, Global Solutions Inc., is a multinational technology '\n",
            " 'services company specializing in software development, cloud computing, and '\n",
            " 'cybersecurity solutions. With a strong presence in the healthcare sector, '\n",
            " 'Tech Innovators Ltd. is a successful startup specializing in artificial '\n",
            " 'intelligence and machine learning algorithms.\\n'\n",
            " '\\n'\n",
            " 'The parties agree to maintain strict confidentiality and safeguard all '\n",
            " 'proprietary and sensitive information exchanged during the negotiation '\n",
            " 'process. The LOI includes a mutual exclusivity clause, ensuring that neither '\n",
            " 'party engages in similar discussions with other potential partners during '\n",
            " 'the negotiation period.\\n'\n",
            " '\\n'\n",
            " 'The transaction is subject to obtaining regulatory approvals from the '\n",
            " 'Federal Trade Commission (FTC) and any other relevant authorities. '\n",
            " 'Satisfactory completion of due diligence by both parties, including review '\n",
            " 'and resolution of any identified issues or concerns, is also a condition '\n",
            " 'precedent to the transaction. Approval from the boards of directors and '\n",
            " 'shareholders of both Global Solutions Inc. and Tech Innovators Ltd. is '\n",
            " 'required for the transaction to')\n",
            "time: 1min 23s (started: 2023-09-07 18:23:14 +00:00)\n"
          ]
        }
      ]
    },
    {
      "cell_type": "code",
      "source": [
        "query = f\"Your response would be taken as it in the input so do not write anything other than the second step of drafting a Letter of Intent (LOI), Your task is to Write 800 words long content about just only a section-2, i.e... Transaction Overview, based on the context and memory available.\"\n",
        "result = qa({\"question\":query,\"chat_history\":[]})\n",
        "pprint(result[\"answer\"])"
      ],
      "metadata": {
        "id": "eLMV7Jd0YhOP",
        "colab": {
          "base_uri": "https://localhost:8080/"
        },
        "outputId": "250fe8a9-66e6-4314-c692-a1e33b2a10c8"
      },
      "execution_count": 104,
      "outputs": [
        {
          "metadata": {
            "tags": null
          },
          "name": "stdout",
          "output_type": "stream",
          "text": [
            "('  Transaction Overview\\n'\n",
            " '\\n'\n",
            " 'This Letter of Intent (LOI) outlines the proposed acquisition of Tech '\n",
            " 'Innovators Ltd. (Target Company) by Global Solutions Inc. (Acquiring '\n",
            " 'Company). The transaction, valued at $250 million, will be structured as a '\n",
            " 'cash and stock purchase. The Acquiring Company will pay $150 million in cash '\n",
            " 'and issue $100 million worth of common shares to the shareholders of the '\n",
            " 'Target Company.\\n'\n",
            " '\\n'\n",
            " 'The Acquiring Company, Global Solutions Inc., is a multinational technology '\n",
            " 'services company specializing in software development, cloud computing, and '\n",
            " 'cybersecurity solutions. With a strong presence in the healthcare sector, '\n",
            " 'Tech Innovators Ltd. is a successful startup specializing in artificial '\n",
            " 'intelligence and machine learning algorithms.\\n'\n",
            " '\\n'\n",
            " 'The proposed acquisition aims to leverage the complementary strengths and '\n",
            " 'resources of both companies, creating a powerful synergy that will benefit '\n",
            " 'both parties and their respective shareholders. The Acquiring Company will '\n",
            " \"gain access to the Target Company's cutting-edge technology and expertise in \"\n",
            " 'artificial intelligence and machine learning, while the Target Company will '\n",
            " \"benefit from the Acquiring Company's global reach, resources, and \"\n",
            " 'established customer base.\\n'\n",
            " '\\n'\n",
            " 'The transaction is subject to customary conditions precedent, including '\n",
            " 'obtaining regulatory approvals from the Federal Trade Commission (FTC) and '\n",
            " 'any other relevant authorities. The parties have also agreed to a mutual '\n",
            " 'exclusivity period, during which they will not engage in similar discussions '\n",
            " 'with other potential partners.\\n'\n",
            " '\\n'\n",
            " 'A thorough due diligence investigation will be conducted by both parties to '\n",
            " 'assess the financial, legal, and operational aspects of the Target Company. '\n",
            " 'The Target Company will provide access to audited financial statements, '\n",
            " 'customer contracts, intellectual property records, and relevant regulatory '\n",
            " 'compliance documentation. The Acquiring Company will also conduct a thorough '\n",
            " \"review of the Target Company's\")\n",
            "time: 1min 22s (started: 2023-09-07 18:59:35 +00:00)\n"
          ]
        }
      ]
    },
    {
      "cell_type": "code",
      "source": [
        "query = f\"Your response would be taken as it in the input so do not write anything other than the Third step of drafting a Letter of Intent (LOI), Your task is to Write 800 words long content about just only a section-3, i.e... Purchase Price and Structure, based on the context and memory available.\"\n",
        "result = qa({\"question\":query,\"chat_history\":[]})\n",
        "pprint(result[\"answer\"])"
      ],
      "metadata": {
        "id": "SEFO-ni3YhOP",
        "colab": {
          "base_uri": "https://localhost:8080/"
        },
        "outputId": "1eb583ab-4755-4323-c030-afacb34d5e23"
      },
      "execution_count": 103,
      "outputs": [
        {
          "output_type": "stream",
          "name": "stdout",
          "text": [
            "('  Purchase Price and Structure\\n'\n",
            " '\\n'\n",
            " '3.1. The purchase price for the acquisition of Tech Innovators Ltd. (the '\n",
            " '\"Company\") by Global Solutions Inc. (the \"Buyer\") shall be Two Hundred Fifty '\n",
            " 'Million US Dollars ($250,000,000) (the \"Purchase Price\").\\n'\n",
            " '\\n'\n",
            " '3.2. The Purchase Price shall be paid in a combination of cash and stock, '\n",
            " 'with One Hundred Fifty Million US Dollars ($150,000,000) paid in cash (the '\n",
            " '\"Cash Payment\") and One Hundred Million US Dollars ($100,000,000) paid in '\n",
            " 'common shares of Global Solutions Inc. (the \"Stock Payment\").\\n'\n",
            " '\\n'\n",
            " '3.3. The Cash Payment shall be made by the Buyer to the Company at the '\n",
            " 'closing of the transaction (the \"Closing\").\\n'\n",
            " '\\n'\n",
            " \"3.4. The Stock Payment shall be made by the Buyer to the Company's \"\n",
            " 'shareholders at the Closing, and shall be based on the average closing price '\n",
            " \"of Global Solutions Inc.'s common shares on the New York Stock Exchange for \"\n",
            " 'the ten (10) trading days immediately preceding the Closing Date.\\n'\n",
            " '\\n'\n",
            " \"3.5. The Purchase Price is subject to adjustment based on the Company's \"\n",
            " \"working capital and indebtedness at the Closing. If the Company's working \"\n",
            " 'capital is greater than $50 million at the Closing, the Purchase Price shall '\n",
            " \"be increased by the amount of such excess. If the Company's working capital \"\n",
            " 'is less than $50 million at the Closing, the Purchase Price shall be '\n",
            " 'decreased by the amount of such deficiency.\\n'\n",
            " '\\n'\n",
            " \"3.6. The Buyer shall also assume all of the Company's out\")\n",
            "time: 1min 22s (started: 2023-09-07 18:58:12 +00:00)\n"
          ]
        }
      ]
    },
    {
      "cell_type": "code",
      "source": [
        "query = f\"Your response would be taken as it is to genereate official document so do not write anything irrelevant. As a fourth step of drafting a Letter of Intent (LOI), Your task is to Write 800 words long content about just only a section-4, i.e... Assets and Liabilities, based on the context and memory available.\"\n",
        "result = qa({\"question\":query,\"chat_history\":[]})\n",
        "pprint(result[\"answer\"])"
      ],
      "metadata": {
        "id": "3lVIsFW3YhOP",
        "colab": {
          "base_uri": "https://localhost:8080/"
        },
        "outputId": "2de3c2e7-f41f-4bd8-ce1b-670f3db6c799"
      },
      "execution_count": 119,
      "outputs": [
        {
          "output_type": "stream",
          "name": "stdout",
          "text": [
            "('  Section 4: Assets and Liabilities\\n'\n",
            " '\\n'\n",
            " '4.1. Assets\\n'\n",
            " '\\n'\n",
            " 'The transaction contemplated by this Letter of Intent (the \"Transaction\") '\n",
            " 'will involve the acquisition by Global Solutions Inc. (the \"Buyer\") of '\n",
            " 'certain assets of Tech Innovators Ltd. (the \"Seller\"). The Seller agrees to '\n",
            " 'sell, transfer, and assign to the Buyer all of its right, title, and '\n",
            " 'interest in and to the following assets (the \"Assets\"):\\n'\n",
            " '\\n'\n",
            " '4.1.1. Intellectual Property\\n'\n",
            " '\\n'\n",
            " 'The Seller agrees to sell, transfer, and assign to the Buyer all of its '\n",
            " 'right, title, and interest in and to the intellectual property rights owned '\n",
            " 'or licensed by the Seller, including but not limited to:\\n'\n",
            " '\\n'\n",
            " '* Patents and patent applications\\n'\n",
            " '* Trademarks and service marks\\n'\n",
            " '* Copyrights\\n'\n",
            " '* Trade secrets and confidential information\\n'\n",
            " '\\n'\n",
            " 'The Seller represents and warrants that it has the right and authority to '\n",
            " 'sell, transfer, and assign the intellectual property rights to the Buyer, '\n",
            " \"and that the Buyer's use of the intellectual property rights will not \"\n",
            " 'infringe on the rights of any third party.\\n'\n",
            " '\\n'\n",
            " '4.1.2. Goodwill\\n'\n",
            " '\\n'\n",
            " 'The Seller agrees to sell, transfer, and assign to the Buyer all of its '\n",
            " 'right, title, and interest in and to the goodwill associated with the '\n",
            " 'business of the Seller, including but not limited to:\\n'\n",
            " '\\n'\n",
            " '* Customer relationships\\n'\n",
            " '* Supplier relationships\\n'\n",
            " '* Trade names\\n'\n",
            " '* Brand names\\n'\n",
            " '\\n'\n",
            " 'The Seller represents and warrants that it has the right and authority to '\n",
            " \"sell, transfer, and assign the goodwill to the Buyer, and that the Buyer's \"\n",
            " 'use of the goodwill will not infringe on the rights of any third party.\\n'\n",
            " '\\n'\n",
            " '4.1.3.')\n",
            "time: 1min 22s (started: 2023-09-07 19:25:26 +00:00)\n"
          ]
        }
      ]
    },
    {
      "cell_type": "code",
      "source": [
        "query = f\"Your response would be taken as it is to genereate official document so do not write anything irrelevant. As a fifth step of drafting a Letter of Intent (LOI), Your task is to Write 800 words long content about just only a section-5, i.e... Due Diligence and Confidentiality, based on the context and memory available.\"\n",
        "result = qa({\"question\":query,\"chat_history\":[]})\n",
        "pprint(result[\"answer\"])"
      ],
      "metadata": {
        "id": "vR0ld4xpYhOP",
        "colab": {
          "base_uri": "https://localhost:8080/"
        },
        "outputId": "29a8bd5b-e03d-4a7b-e61c-8a89fedec16a"
      },
      "execution_count": 118,
      "outputs": [
        {
          "output_type": "stream",
          "name": "stdout",
          "text": [
            "('  Section 5: Due Diligence and Confidentiality\\n'\n",
            " '\\n'\n",
            " '5.1 Due Diligence\\n'\n",
            " '\\n'\n",
            " 'The parties acknowledge that due diligence is a critical aspect of the '\n",
            " 'transaction and agree to conduct thorough due diligence investigations to '\n",
            " 'assess the financial, legal, and operational aspects of Tech Innovators Ltd. '\n",
            " '(the \"Company\"). The Company agrees to provide access to audited financial '\n",
            " 'statements, customer contracts, intellectual property records, and relevant '\n",
            " 'regulatory compliance documentation. The parties agree to work together in '\n",
            " 'good faith to ensure that the due diligence process is completed in a timely '\n",
            " 'and efficient manner.\\n'\n",
            " '\\n'\n",
            " '5.2 Confidentiality\\n'\n",
            " '\\n'\n",
            " 'The parties acknowledge that the information exchanged during the '\n",
            " 'negotiation process is confidential and agree to maintain strict '\n",
            " 'confidentiality and safeguard all proprietary and sensitive information. The '\n",
            " 'parties agree to keep all information and documents exchanged during the due '\n",
            " 'diligence process confidential and not to disclose them to any third party '\n",
            " 'without the prior written consent of the other party. The parties further '\n",
            " 'agree that any breach of this confidentiality agreement shall be considered '\n",
            " 'a material breach of this Letter of Intent and shall entitle the '\n",
            " 'non-breaching party to terminate this Letter of Intent immediately.\\n'\n",
            " '\\n'\n",
            " '5.3 Exclusivity\\n'\n",
            " '\\n'\n",
            " 'The parties agree that during the exclusivity period, they will not, '\n",
            " 'directly or indirectly, solicit, initiate, encourage, or engage in '\n",
            " 'discussions or negotiations with any third party in relation to a competing '\n",
            " 'transaction. The parties acknowledge that the exclusivity period shall start '\n",
            " 'from the date of this Letter of Intent and shall end on the earlier of (a) '\n",
            " 'the date of the closing of the transaction contemplated by this Letter of '\n",
            " 'Intent or (b) the termination of this Letter of Intent in accordance with '\n",
            " 'its terms.')\n",
            "time: 1min 21s (started: 2023-09-07 19:24:05 +00:00)\n"
          ]
        }
      ]
    },
    {
      "cell_type": "code",
      "source": [
        "query = f\"Your response would be taken as it is to genereate official document so do not write anything irrelevant. As a sixth step of drafting a Letter of Intent (LOI), Your task is to Write 800 words long content about just only a section-6, i.e... Exclusivity Period, based on the context and memory available.\"\n",
        "result = qa({\"question\":query,\"chat_history\":[]})\n",
        "pprint(result[\"answer\"])"
      ],
      "metadata": {
        "id": "1aUY1DwMYhOQ",
        "colab": {
          "base_uri": "https://localhost:8080/"
        },
        "outputId": "1e698ab9-a986-4d87-ab61-13e56f96bd03"
      },
      "execution_count": 121,
      "outputs": [
        {
          "output_type": "stream",
          "name": "stdout",
          "text": [
            "('  Section 6: Exclusivity Period\\n'\n",
            " '\\n'\n",
            " '6.1. The parties agree that, for a period of sixty (60) days from the date '\n",
            " 'of this Letter of Intent (the \"Exclusivity Period\"), neither party shall, '\n",
            " 'directly or indirectly, solicit, initiate, encourage, or engage in any '\n",
            " 'discussions or negotiations with any third party regarding any transaction '\n",
            " 'that could reasonably be expected to compete with the transaction '\n",
            " 'contemplated by this Letter of Intent.\\n'\n",
            " '\\n'\n",
            " '6.2. During the Exclusivity Period, each party shall notify the other '\n",
            " 'promptly in writing of any approach or proposal received from a third party '\n",
            " 'in respect of a competing transaction.\\n'\n",
            " '\\n'\n",
            " '6.3. The parties acknowledge and agree that the Exclusivity Period is a '\n",
            " 'material inducement to the other party to enter into this Letter of Intent '\n",
            " 'and that any breach of this Section 6 by a party shall be a material breach '\n",
            " 'of this Letter of Intent.\\n'\n",
            " '\\n'\n",
            " '6.4. Each party agrees to use its best efforts to ensure that all '\n",
            " 'information exchanged between the parties during the Exclusivity Period '\n",
            " 'shall be kept confidential and not disclosed to any third party.\\n'\n",
            " '\\n'\n",
            " '6.5. The exclusivity obligations set forth in this Section 6 shall '\n",
            " 'automatically terminate upon the earlier of (i) the execution of a '\n",
            " 'definitive agreement by the parties, (ii) the termination of this Letter of '\n",
            " 'Intent pursuant to Section 11, or (iii) the expiration of the Exclusivity '\n",
            " 'Period.\\n'\n",
            " '\\n'\n",
            " '6.6. The parties agree that damages for any breach of this Section 6 may be '\n",
            " 'difficult to ascertain and that the non-breaching party shall be entitled to '\n",
            " 'seek and obtain injunctive relief and/or specific performance, in addition '\n",
            " 'to any other remedies available at law or in equity, in the event of a '\n",
            " 'breach')\n",
            "time: 1min 21s (started: 2023-09-07 19:28:53 +00:00)\n"
          ]
        }
      ]
    },
    {
      "cell_type": "code",
      "source": [
        "query = f\"Your response would be taken as it in the input so do not write anything other than the seventh step of drafting a Letter of Intent (LOI), Your task is to Write 800 words long content about just only a section-7, i.e... Conditions Precedent, based on the context and memory available.\"\n",
        "result = qa({\"question\":query,\"chat_history\":[]})\n",
        "pprint(result[\"answer\"])"
      ],
      "metadata": {
        "id": "aqDZ8ATrYhOQ",
        "colab": {
          "base_uri": "https://localhost:8080/"
        },
        "outputId": "cc6e1cd7-cf5e-4a05-d473-151f321f070f"
      },
      "execution_count": 99,
      "outputs": [
        {
          "output_type": "stream",
          "name": "stdout",
          "text": [
            "('  Conditions Precedent:\\n'\n",
            " '\\n'\n",
            " '7.1. In order to facilitate the successful completion of the transaction '\n",
            " 'contemplated by this Letter of Intent (LOI), both parties agree to undertake '\n",
            " 'certain actions and fulfill specific conditions precedent. These conditions '\n",
            " 'are essential to ensure that the transaction is consummated in a timely and '\n",
            " 'efficient manner, and that all relevant regulatory approvals are obtained.\\n'\n",
            " '\\n'\n",
            " '7.2. The following conditions precedent must be met before the parties can '\n",
            " 'proceed with the transaction:\\n'\n",
            " '\\n'\n",
            " '7.2.1. Regulatory Approvals: Both parties shall use their commercially '\n",
            " 'reasonable efforts to obtain all necessary regulatory approvals from the '\n",
            " 'Federal Trade Commission (FTC) and any other relevant authorities. The '\n",
            " 'parties acknowledge that the transaction is subject to obtaining these '\n",
            " 'approvals and that the failure to obtain them may result in the termination '\n",
            " 'of the LOI.\\n'\n",
            " '\\n'\n",
            " '7.2.2. Due Diligence: Both parties shall conduct thorough due diligence '\n",
            " 'investigations to assess the financial, legal, and operational aspects of '\n",
            " 'the target company. Tech Innovators Ltd. shall provide access to audited '\n",
            " 'financial statements, customer contracts, intellectual property records, and '\n",
            " 'relevant regulatory compliance documentation. The parties acknowledge that '\n",
            " 'the successful completion of due diligence is a condition precedent to the '\n",
            " 'transaction.\\n'\n",
            " '\\n'\n",
            " '7.2.3. Board and Shareholder Approvals: Both parties shall use their '\n",
            " 'commercially reasonable efforts to obtain the necessary approvals from their '\n",
            " 'respective boards of directors and shareholders. The parties acknowledge '\n",
            " 'that the transaction is subject to obtaining these approvals and that the '\n",
            " 'failure to obtain them may result in the termination of the LOI.\\n'\n",
            " '\\n'\n",
            " '7.3. The parties agree to work together in good faith to fulfill the '\n",
            " 'conditions precedent set forth in this section. They shall use their '\n",
            " 'commercially reasonable efforts to ensure that')\n",
            "time: 1min 22s (started: 2023-09-07 18:52:44 +00:00)\n"
          ]
        }
      ]
    },
    {
      "cell_type": "code",
      "source": [
        "query = f\"Your response would be taken as it is to genereate official document so do not write anything irrelevant eigth step of drafting a Letter of Intent (LOI), Your task is to Write 800 words long content about just only a section-8, i.e... Non-binding Nature, based on the context and memory available.\"\n",
        "result = qa({\"question\":query,\"chat_history\":[]})\n",
        "pprint(result[\"answer\"])"
      ],
      "metadata": {
        "id": "krH9sg1rYhOQ",
        "colab": {
          "base_uri": "https://localhost:8080/"
        },
        "outputId": "bacfa86f-16b7-488a-c038-3cc690f67119"
      },
      "execution_count": 114,
      "outputs": [
        {
          "output_type": "stream",
          "name": "stdout",
          "text": [
            "('  Section 8: Non-Binding Nature\\n'\n",
            " '\\n'\n",
            " '8.1 The parties acknowledge and agree that, except for the provisions of '\n",
            " 'this Letter of Intent (LOI) related to confidentiality, exclusivity, and '\n",
            " 'termination, this document is not intended to be, and shall not be construed '\n",
            " 'as, a legally binding agreement.\\n'\n",
            " '\\n'\n",
            " '8.2 The parties expressly acknowledge and agree that the terms and '\n",
            " 'conditions of this LOI are non-binding and are not intended to create any '\n",
            " 'legally enforceable rights or obligations.\\n'\n",
            " '\\n'\n",
            " '8.3 The parties further acknowledge and agree that the non-binding nature of '\n",
            " 'this LOI shall not preclude either party from pursuing any legal remedies '\n",
            " 'available to it in the event of a breach of any of the provisions of this '\n",
            " 'LOI.\\n'\n",
            " '\\n'\n",
            " '8.4 The parties agree that the non-binding nature of this LOI shall not be '\n",
            " 'construed as a waiver of any rights or remedies that either party may have '\n",
            " 'under applicable law.\\n'\n",
            " '\\n'\n",
            " '8.5 The parties acknowledge and agree that, in the event of a conflict '\n",
            " 'between the provisions of this LOI and any applicable law, the provisions of '\n",
            " 'this LOI shall be deemed to be modified or superseded to the extent '\n",
            " 'necessary to comply with such law.\\n'\n",
            " '\\n'\n",
            " '8.6 The parties expressly acknowledge and agree that the non-binding nature '\n",
            " 'of this LOI shall not preclude either party from seeking specific '\n",
            " 'performance or other equitable relief in the event of a breach of any of the '\n",
            " 'provisions of this LOI.\\n'\n",
            " '\\n'\n",
            " '8.7 The parties agree that, in the event of a breach of any of the '\n",
            " 'provisions of this LOI, the non-breaching party shall be entitled to seek '\n",
            " 'injunctive relief, specific performance, or other equitable relief, in '\n",
            " 'addition to any other remedies available at law.\\n'\n",
            " '\\n'\n",
            " '8.8')\n",
            "time: 1min 22s (started: 2023-09-07 19:18:17 +00:00)\n"
          ]
        }
      ]
    },
    {
      "cell_type": "code",
      "source": [
        "query = f\"Your response would be taken as it in the input so do not write anything other than the ninth step of drafting a Letter of Intent (LOI), Your task is to Write 800 words long content about just only a section-9, i.e... Future Actions, based on the context and memory available.\"\n",
        "result = qa({\"question\":query,\"chat_history\":[]})\n",
        "pprint(result[\"answer\"])"
      ],
      "metadata": {
        "id": "bii44kQhYhOQ",
        "colab": {
          "base_uri": "https://localhost:8080/"
        },
        "outputId": "4fead2cf-c3bc-4fd1-91ff-5a6af25b5afe"
      },
      "execution_count": 91,
      "outputs": [
        {
          "output_type": "stream",
          "name": "stdout",
          "text": [
            "('  Future Actions\\n'\n",
            " '\\n'\n",
            " '9.1. Due Diligence\\n'\n",
            " '\\n'\n",
            " 'Upon execution of this Letter of Intent, both parties will proceed with '\n",
            " 'thorough due diligence investigations to assess the financial, legal, and '\n",
            " 'operational aspects of Tech Innovators Ltd. The due diligence process will '\n",
            " 'include, but not be limited to, the review of audited financial statements, '\n",
            " 'customer contracts, intellectual property records, and relevant regulatory '\n",
            " 'compliance documentation. Tech Innovators Ltd. will provide access to all '\n",
            " 'necessary information and documentation to Global Solutions Inc., and both '\n",
            " 'parties will work collaboratively to ensure a comprehensive and efficient '\n",
            " 'due diligence process.\\n'\n",
            " '\\n'\n",
            " '9.2. Definitive Agreements\\n'\n",
            " '\\n'\n",
            " 'Following the completion of due diligence, the parties will negotiate and '\n",
            " 'execute definitive agreements, including a stock purchase agreement, asset '\n",
            " 'purchase agreement, and any other necessary documentation. These agreements '\n",
            " 'will provide a detailed outline of the transaction, including the purchase '\n",
            " 'price, payment structure, assets and liabilities, and any conditions '\n",
            " 'precedent to closing. The definitive agreements will be drafted with the '\n",
            " 'assistance of legal counsel and will be subject to review and approval by '\n",
            " \"both parties' boards of directors and regulatory authorities.\\n\"\n",
            " '\\n'\n",
            " '9.3. Regulatory Approvals\\n'\n",
            " '\\n'\n",
            " 'Global Solutions Inc. and Tech Innovators Ltd. will work together to obtain '\n",
            " 'all necessary regulatory approvals from the Federal Trade Commission (FTC) '\n",
            " 'and any other relevant authorities. The parties will provide all necessary '\n",
            " 'information and documentation to facilitate the regulatory approval process '\n",
            " 'and will use their best efforts to secure approvals within the anticipated '\n",
            " 'timeframe of 90 days from the signing of the LOI.\\n'\n",
            " '\\n'\n",
            " '9.4. Closing\\n'\n",
            " '\\n'\n",
            " 'Subject to the fulfillment of all conditions precedent, the transaction is '\n",
            " 'targeted to close within 120 days from the signing of the')\n",
            "time: 1min 22s (started: 2023-09-07 18:41:27 +00:00)\n"
          ]
        }
      ]
    },
    {
      "cell_type": "code",
      "source": [
        "query = f\"Your response would be taken as it is to genereate official document so do not write anything irrelevant. Your task is to Write 800 words long content about just only a section-10, i.e... Timeline, based on the context and memory available.\"\n",
        "result = qa({\"question\":query,\"chat_history\":[]})\n",
        "pprint(result[\"answer\"])"
      ],
      "metadata": {
        "id": "J4eXbaXyYhOQ",
        "colab": {
          "base_uri": "https://localhost:8080/"
        },
        "outputId": "1f036d6f-fba7-4aee-a92c-92a2870942cb"
      },
      "execution_count": 113,
      "outputs": [
        {
          "output_type": "stream",
          "name": "stdout",
          "text": [
            "('  Section 10: Timeline\\n'\n",
            " '\\n'\n",
            " '10.1 Overview\\n'\n",
            " '\\n'\n",
            " 'The following timeline outlines the key milestones and deadlines for the '\n",
            " 'transaction contemplated by this Letter of Intent (LOI). The parties agree '\n",
            " 'to work diligently towards completing the transaction within the timeframe '\n",
            " 'set forth below, subject to the satisfaction of all conditions precedent.\\n'\n",
            " '\\n'\n",
            " '10.2 Negotiation and Execution of Definitive Agreements\\n'\n",
            " '\\n'\n",
            " 'The parties will negotiate and execute definitive agreements, including a '\n",
            " 'stock purchase agreement, asset purchase agreement, or merger agreement, as '\n",
            " 'applicable, within 60 days from the signing of the LOI. The definitive '\n",
            " 'agreements will contain customary representations, warranties, covenants, '\n",
            " 'and conditions precedent to closing.\\n'\n",
            " '\\n'\n",
            " '10.3 Due Diligence Investigations\\n'\n",
            " '\\n'\n",
            " 'Both parties will conduct thorough due diligence investigations to assess '\n",
            " 'the financial, legal, and operational aspects of the target company. Tech '\n",
            " 'Innovators Ltd. will provide access to audited financial statements, '\n",
            " 'customer contracts, intellectual property records, and relevant regulatory '\n",
            " 'compliance documentation. The due diligence investigations are expected to '\n",
            " 'be completed within 30 days from the signing of the LOI.\\n'\n",
            " '\\n'\n",
            " '10.4 Regulatory Approvals\\n'\n",
            " '\\n'\n",
            " 'The parties will seek regulatory approvals from the Federal Trade Commission '\n",
            " '(FTC) and any other relevant authorities. The parties anticipate that '\n",
            " 'regulatory approvals will be obtained within 90 days from the signing of the '\n",
            " 'LOI.\\n'\n",
            " '\\n'\n",
            " '10.5 Closing\\n'\n",
            " '\\n'\n",
            " 'The closing of the transaction is targeted to occur within 120 days from the '\n",
            " 'signing of the LOI, subject to the fulfillment of all conditions precedent. '\n",
            " 'At closing, the parties will execute and deliver any remaining documents and '\n",
            " 'instruments necessary to effectuate the transaction.\\n'\n",
            " '\\n'\n",
            " '10.6 Governing Law and Dispute Resolution\\n'\n",
            " '\\n')\n",
            "time: 1min 24s (started: 2023-09-07 19:16:24 +00:00)\n"
          ]
        }
      ]
    },
    {
      "cell_type": "code",
      "source": [
        "query = f\"Your response would be taken as it in the input so do not write anything other than the eleventh step of drafting a Letter of Intent (LOI), Your task is to Write 800 words long content about just only a section-11, i.e... Governing Law, based on the context and memory available.\"\n",
        "result = qa({\"question\":query,\"chat_history\":[]})\n",
        "pprint(result[\"answer\"])"
      ],
      "metadata": {
        "id": "mqEhQNInYhOR",
        "colab": {
          "base_uri": "https://localhost:8080/"
        },
        "outputId": "653cb56d-3364-4256-8dad-dbc4c63eaf29"
      },
      "execution_count": 95,
      "outputs": [
        {
          "output_type": "stream",
          "name": "stdout",
          "text": [
            "('  Governing Law:\\n'\n",
            " '\\n'\n",
            " '11.1. This Letter of Intent (LOI) and any subsequent agreements shall be '\n",
            " 'governed by and interpreted in accordance with the laws of the State of '\n",
            " 'Delaware, USA.\\n'\n",
            " '\\n'\n",
            " '11.2. The parties agree that any disputes arising out of or in connection '\n",
            " 'with this LOI will be resolved through binding arbitration in accordance '\n",
            " 'with the rules of the American Arbitration Association.\\n'\n",
            " '\\n'\n",
            " '11.3. The arbitration tribunal shall consist of three arbitrators, with each '\n",
            " 'party appointing one arbitrator and the third arbitrator being selected by '\n",
            " 'the two party-appointed arbitrators.\\n'\n",
            " '\\n'\n",
            " '11.4. The arbitration proceedings shall be conducted in the English language '\n",
            " 'and shall be held in the City of New York, State of New York, USA.\\n'\n",
            " '\\n'\n",
            " '11.5. The arbitration award shall be final and binding on the parties, and '\n",
            " 'the parties agree to abide by and implement the arbitration award without '\n",
            " 'delay.\\n'\n",
            " '\\n'\n",
            " '11.6. The parties agree that the arbitration award shall be enforceable in '\n",
            " 'any court of competent jurisdiction and that the parties shall not raise any '\n",
            " 'objections to the enforcement of the arbitration award.\\n'\n",
            " '\\n'\n",
            " '11.7. The parties agree that the LOI and any subsequent agreements shall be '\n",
            " 'governed by and interpreted in accordance with the laws of the State of '\n",
            " 'Delaware, USA, and that the arbitration proceedings shall be conducted in '\n",
            " 'accordance with the rules of the American Arbitration Association.\\n'\n",
            " '\\n'\n",
            " '11.8. The parties agree that the LOI and any subsequent agreements shall be '\n",
            " 'binding on the parties and their respective successors and assigns.\\n'\n",
            " '\\n'\n",
            " '11.9. The parties agree that the LOI and any subsequent agreements shall be '\n",
            " 'valid and enforceable against the parties, and that the parties shall not '\n",
            " 'dispute the')\n",
            "time: 1min 21s (started: 2023-09-07 18:47:21 +00:00)\n"
          ]
        }
      ]
    },
    {
      "cell_type": "code",
      "source": [
        "query = f\"Your response would be taken as it in the input so do not write anything other than the twelfth step of drafting a Letter of Intent (LOI), Your task is to Write 800 words long content about just only a section-12, i.e... Termination Clause, based on the context and memory available.\"\n",
        "result = qa({\"question\":query,\"chat_history\":[]})\n",
        "pprint(result[\"answer\"])"
      ],
      "metadata": {
        "id": "aSEhJ-1aYhOR",
        "colab": {
          "base_uri": "https://localhost:8080/"
        },
        "outputId": "5f4426db-edb0-4177-8058-cbb505a0febe"
      },
      "execution_count": 96,
      "outputs": [
        {
          "output_type": "stream",
          "name": "stdout",
          "text": [
            "('  Termination Clause\\n'\n",
            " '\\n'\n",
            " '12.1 This Letter of Intent (LOI) may be terminated by either party upon '\n",
            " 'written notice to the other party in the event of a material breach of this '\n",
            " 'LOI by the other party.\\n'\n",
            " '\\n'\n",
            " '12.2 For purposes of this LOI, a material breach shall include, but not be '\n",
            " 'limited to, the failure to meet the conditions precedent set forth in '\n",
            " 'Section 6 above.\\n'\n",
            " '\\n'\n",
            " '12.3 In the event of a material breach by one party, the other party shall '\n",
            " 'have the right to terminate this LOI and pursue any and all remedies '\n",
            " 'available at law or in equity.\\n'\n",
            " '\\n'\n",
            " '12.4 This LOI may also be terminated by either party if the transaction '\n",
            " 'contemplated by this LOI is unable to secure the necessary regulatory '\n",
            " 'approvals within a specified timeframe.\\n'\n",
            " '\\n'\n",
            " '12.5 In the event of termination of this LOI, all obligations and '\n",
            " 'commitments of the parties hereunder shall immediately cease and terminate, '\n",
            " 'and each party shall be released from all liability and obligations to the '\n",
            " 'other party.\\n'\n",
            " '\\n'\n",
            " '12.6 Upon termination of this LOI, each party shall return all confidential '\n",
            " 'information and materials received from the other party and destroy any '\n",
            " 'copies thereof.\\n'\n",
            " '\\n'\n",
            " '12.7 The terms of this Termination Clause shall survive the termination of '\n",
            " 'this LOI and shall remain in full force and effect.\\n'\n",
            " '\\n'\n",
            " '12.8 The parties acknowledge and agree that in the event of a breach of this '\n",
            " 'LOI, the non-breaching party may suffer irreparable harm and that monetary '\n",
            " 'damages may not be a sufficient remedy. Therefore, the parties agree that '\n",
            " 'the non-breaching party shall be entitled to an injunction or other '\n",
            " 'equitable relief to enforce the terms of this LOI.\\n'\n",
            " '\\n'\n",
            " '12.9 The parties agree that this Termination')\n",
            "time: 1min 22s (started: 2023-09-07 18:48:43 +00:00)\n"
          ]
        }
      ]
    },
    {
      "cell_type": "code",
      "source": [
        "query = f\"Your response would be taken as it is to genereate official document so do not write anything irrelevant. Your task is to Write 800 words long content about just only a section-13, i.e... Signatures, based on the context and memory available.\"\n",
        "result = qa({\"question\":query,\"chat_history\":[]})\n",
        "pprint(result[\"answer\"])"
      ],
      "metadata": {
        "id": "j6WYm90ajDic",
        "colab": {
          "base_uri": "https://localhost:8080/"
        },
        "outputId": "5332dddc-1da3-45b0-dd68-7600de1f172a"
      },
      "execution_count": 123,
      "outputs": [
        {
          "output_type": "stream",
          "name": "stdout",
          "text": [
            "('  Section 13: Signatures\\n'\n",
            " '\\n'\n",
            " '13.1. The LOI shall be executed by the authorized representatives of both '\n",
            " 'parties, Global Solutions Inc. and Tech Innovators Ltd.\\n'\n",
            " '\\n'\n",
            " '13.2. The signing of the LOI indicates that both parties have read, '\n",
            " 'understood, and agree to be bound by the terms and conditions outlined in '\n",
            " 'the document.\\n'\n",
            " '\\n'\n",
            " '13.3. The authorized representatives of Global Solutions Inc. and Tech '\n",
            " 'Innovators Ltd. shall sign the LOI in the presence of witnesses, and the '\n",
            " 'signatures shall be notarized.\\n'\n",
            " '\\n'\n",
            " '13.4. The LOI shall be executed in duplicate originals, with each party '\n",
            " 'retaining one original copy.\\n'\n",
            " '\\n'\n",
            " '13.5. The signatures of the authorized representatives shall be affixed to '\n",
            " 'the LOI after the parties have negotiated and agreed upon all the terms and '\n",
            " 'conditions.\\n'\n",
            " '\\n'\n",
            " '13.6. The LOI shall come into effect on the date of its execution and shall '\n",
            " 'remain in force until the earlier of (i) the completion of the transactions '\n",
            " 'contemplated by the LOI, or (ii) the termination of the LOI in accordance '\n",
            " 'with its terms.\\n'\n",
            " '\\n'\n",
            " '13.7. The LOI may not be amended, modified, or varied except in writing '\n",
            " 'signed by the authorized representatives of both parties.\\n'\n",
            " '\\n'\n",
            " '13.8. The LOI shall be binding upon and inure to the benefit of the parties '\n",
            " 'and their respective successors and assigns.\\n'\n",
            " '\\n'\n",
            " '13.9. The LOI shall be governed by and construed in accordance with the laws '\n",
            " 'of the State of Delaware, USA.\\n'\n",
            " '\\n'\n",
            " '13.10. Any disputes arising out of or in connection with the LOI shall be '\n",
            " 'resolved through binding arbitration in accordance with the rules of the '\n",
            " 'American Arbitration Association.\\n'\n",
            " '\\n'\n",
            " '13.11. The LOI may be executed in counterparts')\n",
            "time: 1min 24s (started: 2023-09-07 19:34:00 +00:00)\n"
          ]
        }
      ]
    }
  ],
  "metadata": {
    "colab": {
      "provenance": [],
      "include_colab_link": true
    },
    "kernelspec": {
      "display_name": "Python 3",
      "name": "python3"
    },
    "language_info": {
      "name": "python"
    }
  },
  "nbformat": 4,
  "nbformat_minor": 0
}